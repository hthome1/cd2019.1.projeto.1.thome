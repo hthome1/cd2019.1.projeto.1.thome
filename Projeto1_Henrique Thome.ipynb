{
 "cells": [
  {
   "cell_type": "markdown",
   "metadata": {},
   "source": [
    "# Projeto 1 - Ciência dos Dados"
   ]
  },
  {
   "cell_type": "markdown",
   "metadata": {},
   "source": [
    "Nome: Henrique Rizkallah Thomé"
   ]
  },
  {
   "cell_type": "markdown",
   "metadata": {},
   "source": [
    "## Pergunta (s) a ser respondida"
   ]
  },
  {
   "cell_type": "markdown",
   "metadata": {},
   "source": [
    "A TEC é benéfica para os países do Mercosul\n",
    "Os países membros do Mercosul tem desvantagem em relação aos Estados Associados?\n"
   ]
  },
  {
   "cell_type": "markdown",
   "metadata": {},
   "source": [
    "## Explicação da hipótese e mecanismo"
   ]
  },
  {
   "cell_type": "markdown",
   "metadata": {},
   "source": [
    "O Mercosul é um bloco econômico, formado em 1991, com o objetivo de promover uma maior integração e desenvolvimento dos países membros. Uma das principais diretrizes desse bloco é a existência do TEC (Taxa Externa Comúm), ou seja, os membros tem as mesmas tarifas para os produtos importados e exportados. Devido a TEC os países-membros tem economias mais protegidas e menos livres, umas vez que isso é uma medida protecionista. Dessa forma, procura estudar se o TEC é prejudicial para os país, pois acredita-se que isso aumenta o custo do país e atrapalhas as importações e exportações com o resto do mundo, tendo um efeito negativo ao PIB.\n",
    "Atualmente existem duas categorias principais de países: os membros e os Estados Associados. A principal diferenças entre esses dois é que os Estados Associados não adotam a TEC. Assim, vamos analisar e comparar os dados de crescimento do PIB e porcentagem do PIB relativo ao comércio, desde 1991 (data da criação do bloco), entre os paises membros e os associados.\n",
    "\n",
    "Países membros: Argentina, Brasil, Uruguai e Paraguai\n",
    "Países Associados: Chile (desde 1996), Peru (desde 2003), Colômbia, Equador (desde 2004), Guiana, Suriname (desde 2013)"
   ]
  },
  {
   "cell_type": "markdown",
   "metadata": {},
   "source": [
    "## Bases de dados usadas"
   ]
  },
  {
   "cell_type": "markdown",
   "metadata": {},
   "source": [
    "https://www.gapminder.org/tools/#$state$marker$hook$which=merchandise_trade_percent_of_gdp&scaleType=linear&spaceRef:null;;;&chart-type=spreadsheet\n",
    "\n",
    "https://www.gapminder.org/tools/#$state$marker$hook$which=gdp_total_yearly_growth&scaleType=linear&spaceRef:null;;;&chart-type=spreadsheet"
   ]
  },
  {
   "cell_type": "markdown",
   "metadata": {},
   "source": [
    "## Selecionando dados e limpeza\n"
   ]
  },
  {
   "cell_type": "code",
   "execution_count": 38,
   "metadata": {},
   "outputs": [],
   "source": [
    "import pandas as pd\n",
    "%matplotlib inline\n",
    "import matplotlib.pyplot as plt\n",
    "import matplotlib"
   ]
  },
  {
   "cell_type": "code",
   "execution_count": 39,
   "metadata": {},
   "outputs": [],
   "source": [
    "dados_comercio = pd.read_excel('merchandise_trade_percent_of_gdp.xlsx', index_col=False)\n",
    "dados_crescimento = pd.read_excel('gdp_total_yearly_growth.xlsx',index=False)"
   ]
  },
  {
   "cell_type": "code",
   "execution_count": 40,
   "metadata": {},
   "outputs": [],
   "source": [
    "dados_comercio_por_pais = dados_comercio.set_index('country')\n",
    "dados_comercio_por_ano = dados_comercio_por_pais.transpose()\n",
    "comercio_mercosul1 = dados_comercio_por_ano[(dados_comercio_por_ano.index>=1991)][['Brazil','Argentina','Uruguay','Paraguay']]"
   ]
  },
  {
   "cell_type": "code",
   "execution_count": 47,
   "metadata": {},
   "outputs": [],
   "source": [
    "dados_crescimento_pais = dados_crescimento.set_index('country')\n",
    "dados_crescimento_pais = dados_crescimento_pais.transpose()\n",
    "crescimento_mercosul1 = dados_crescimento_pais[(dados_crescimento_pais.index>1991)][['Brazil','Argentina','Uruguay','Paraguay']]"
   ]
  },
  {
   "cell_type": "code",
   "execution_count": 73,
   "metadata": {},
   "outputs": [],
   "source": [
    "comercio_associados1 = dados_comercio_por_ano[(dados_comercio_por_ano.index>=1991)][['Chile','Peru','Colombia','Ecuador','Suriname','Guyana']]\n",
    "crescimento_associados1 = dados_crescimento_pais[(dados_crescimento_pais.index>1991)][['Chile','Peru','Colombia','Ecuador','Suriname','Guyana']]"
   ]
  },
  {
   "cell_type": "code",
   "execution_count": 85,
   "metadata": {},
   "outputs": [],
   "source": [
    "comercio_mercosul = comercio_mercosul1.transpose()\n",
    "crescimento_mercosul = crescimento_mercosul1.transpose()\n",
    "comercio_associados = comercio_associados1.transpose()\n",
    "crescimento_associados = crescimento_associados1.transpose()"
   ]
  },
  {
   "cell_type": "code",
   "execution_count": 86,
   "metadata": {},
   "outputs": [],
   "source": [
    "faz_parte = [1,1,1,1]\n",
    "nao_faz = [0,0,0,0,0,0]\n",
    "comercio_mercosul['Mercosul'] = faz_parte\n",
    "crescimento_mercosul['Mercosul'] = faz_parte\n",
    "comercio_associados['Mercosul'] = nao_faz\n",
    "crescimento_associados['Mercosul'] = nao_faz"
   ]
  },
  {
   "cell_type": "code",
   "execution_count": 88,
   "metadata": {},
   "outputs": [],
   "source": [
    "crescimento_todos = pd.concat([crescimento_mercosul, crescimento_associados])\n",
    "comercio_todos = pd.concat([comercio_associados,comercio_mercosul])"
   ]
  },
  {
   "cell_type": "markdown",
   "metadata": {},
   "source": [
    "### Graficos a plotar\n",
    "#### crescimento médio dos membros vs o dos filiados;\n",
    "#### comercio médio dos membros vs dos filiados\n",
    "#### crescimento dos membros e associados antes e depois do mercosul\n",
    "#### comercio dos membros e associados antes e depois do mercosul"
   ]
  },
  {
   "cell_type": "markdown",
   "metadata": {},
   "source": [
    "## Análise de dados"
   ]
  },
  {
   "cell_type": "markdown",
   "metadata": {},
   "source": [
    "Insira abaixo uma análise de dados tratada para ter maior clareza. \n",
    "\n",
    "Lembre-se de que, além deste arquivo principal, você precisa entregar um ou mais *notebooks* mais brutos com todas as tentativas que fez e que não deram certo .\n",
    "\n",
    "**Não inclua dados ou gráficos sem motivação nem interpretação** - sempre que fizer uma análise, plot ou tablea, diga qual sua intenção. Logo após a apresentação diga qual conclusão específica ou interpretação você tira daquela análise"
   ]
  },
  {
   "cell_type": "code",
   "execution_count": null,
   "metadata": {},
   "outputs": [],
   "source": []
  },
  {
   "cell_type": "code",
   "execution_count": null,
   "metadata": {},
   "outputs": [],
   "source": []
  },
  {
   "cell_type": "markdown",
   "metadata": {},
   "source": [
    "## Conclusão"
   ]
  },
  {
   "cell_type": "markdown",
   "metadata": {},
   "source": [
    "Responda à pergunta, argumento da melhor forma possível com base nos dados"
   ]
  },
  {
   "cell_type": "code",
   "execution_count": null,
   "metadata": {},
   "outputs": [],
   "source": []
  }
 ],
 "metadata": {
  "kernelspec": {
   "display_name": "Python 3",
   "language": "python",
   "name": "python3"
  },
  "language_info": {
   "codemirror_mode": {
    "name": "ipython",
    "version": 3
   },
   "file_extension": ".py",
   "mimetype": "text/x-python",
   "name": "python",
   "nbconvert_exporter": "python",
   "pygments_lexer": "ipython3",
   "version": "3.6.4"
  }
 },
 "nbformat": 4,
 "nbformat_minor": 2
}
